{
 "cells": [
  {
   "cell_type": "code",
   "execution_count": 9,
   "id": "2d8b9289-7711-4155-a727-7287378813ed",
   "metadata": {},
   "outputs": [],
   "source": [
    "\"\"\"Q1. Create a python program to sort the given list of tuples based on integer value using a\n",
    "lambda function.\n",
    "[('Sachin Tendulkar', 34357), ('Ricky Ponting', 27483), ('Jack Kallis', 25534), ('Virat Kohli', 24936)]\"\"\"\n",
    "\n",
    "\n",
    "data = [('Sachin Tendulkar', 34357), ('Ricky Ponting', 27483), ('Jack Kallis', 25534), ('Virat Kohli', 24936)]\n",
    "\n",
    "sorted_data = sorted(data, key=lambda x: x[1])"
   ]
  },
  {
   "cell_type": "code",
   "execution_count": 10,
   "id": "4cbbec76-ace5-4c0b-a064-493874d016b5",
   "metadata": {},
   "outputs": [
    {
     "data": {
      "text/plain": [
       "[('Virat Kohli', 24936),\n",
       " ('Jack Kallis', 25534),\n",
       " ('Ricky Ponting', 27483),\n",
       " ('Sachin Tendulkar', 34357)]"
      ]
     },
     "execution_count": 10,
     "metadata": {},
     "output_type": "execute_result"
    }
   ],
   "source": [
    "sorted_data"
   ]
  },
  {
   "cell_type": "code",
   "execution_count": 7,
   "id": "bfba7d8b-e41d-4729-a65d-50fc9a60ca23",
   "metadata": {},
   "outputs": [],
   "source": [
    "\"\"\"Q2. Write a Python Program to find the squares of all the numbers in the given list of integers using\n",
    "lambda and map functions.\n",
    "\n",
    "[1, 2, 3, 4, 5, 6, 7, 8, 9, 10]\"\"\"\n",
    "\n",
    "l=[1, 2, 3, 4, 5, 6, 7, 8, 9, 10]\n",
    "\n",
    "square=lambda x:x*x"
   ]
  },
  {
   "cell_type": "code",
   "execution_count": null,
   "id": "c5906181-1ec0-4481-a628-997ab8e02f66",
   "metadata": {},
   "outputs": [
    {
     "data": {
      "text/plain": [
       "[1, 4, 9, 16, 25, 36, 49, 64, 81, 100]"
      ]
     },
     "execution_count": 21,
     "metadata": {},
     "output_type": "execute_result"
    }
   ],
   "source": [
    "list(map(square,l))"
   ]
  },
  {
   "cell_type": "code",
   "execution_count": 69,
   "id": "4656bf0d-40ec-41fd-8310-160e2c961a88",
   "metadata": {},
   "outputs": [
    {
     "name": "stdout",
     "output_type": "stream",
     "text": [
      "('1', '2', '3', '4', '5', '6', '7', '8', '9', '10')\n"
     ]
    }
   ],
   "source": [
    "\"\"\"Q3. Write a python program to convert the given list of integers into a tuple of strings. Use map and\n",
    "lambda functions\n",
    "\n",
    "Given String: [1, 2, 3, 4, 5, 6, 7, 8, 9, 10]\n",
    "Expected output: ('1', '2', '3', '4', '5', '6', '7', '8', '9', '10')\"\"\"\n",
    "\n",
    "integer_list = [1, 2, 3, 4, 5, 6, 7, 8, 9, 10]\n",
    "\n",
    "string_tuple = tuple(map(lambda x: str(x), integer_list))\n",
    "\n",
    "print(string_tuple)"
   ]
  },
  {
   "cell_type": "code",
   "execution_count": 70,
   "id": "cdfe4e69-3b24-45df-8a42-30d648be5846",
   "metadata": {},
   "outputs": [
    {
     "name": "stdout",
     "output_type": "stream",
     "text": [
      "The product of numbers range 1 to 25 is 15511210043330985984000000\n"
     ]
    }
   ],
   "source": [
    "\"\"\"Q4. Write a python program using reduce function to compute the product of a list containing numbers\n",
    "from 1 to 25.\"\"\"\n",
    "\n",
    "from functools import reduce\n",
    "\n",
    "l=list(range(1,26))\n",
    "\n",
    "Result=reduce(lambda x,y:x*y,l)\n",
    "\n",
    "print(f\"The product of numbers range 1 to 25 is {Result}\")"
   ]
  },
  {
   "cell_type": "code",
   "execution_count": 75,
   "id": "b7681dd8-0b8c-4007-95c5-215ca9621f3a",
   "metadata": {},
   "outputs": [
    {
     "name": "stdout",
     "output_type": "stream",
     "text": [
      "Numbers divisible by 2 and 3: [6, 60, 90, 120]\n"
     ]
    }
   ],
   "source": [
    "\"\"\"Q5. Write a python program to filter the numbers in a given list that are divisible by 2 and 3 using the\n",
    "filter function. [2, 3, 6, 9, 27, 60, 90, 120, 55, 46]\"\"\"\n",
    "\n",
    "List = [2, 3, 6, 9, 27, 60, 90, 120, 55, 46]\n",
    "\n",
    "filtered_numbers = list(filter(lambda x : x % 2 ==0 and x % 3==0,List))\n",
    "\n",
    "print(\"Numbers divisible by 2 and 3:\", filtered_numbers)"
   ]
  },
  {
   "cell_type": "code",
   "execution_count": 91,
   "id": "ba37ac61-8f69-4f76-b3d9-07d954b95925",
   "metadata": {},
   "outputs": [
    {
     "name": "stdout",
     "output_type": "stream",
     "text": [
      "Palindromes: ['php', 'aba', 'radar', 'level']\n"
     ]
    }
   ],
   "source": [
    "\"\"\"Q6. Write a python program to find palindromes in the given list of strings using lambda and filter\n",
    "function. ['python', 'php', 'aba', 'radar', 'level']\"\"\"\n",
    "\n",
    "L=['python', 'php', 'aba', 'radar', 'level']\n",
    "\n",
    "\n",
    "palindromes = list(filter(lambda x:x==x[::-1], L))\n",
    "\n",
    "print(\"Palindromes:\", palindromes)\n"
   ]
  },
  {
   "cell_type": "code",
   "execution_count": 96,
   "id": "69ba7880-fb8f-4f70-8ae7-b587785b32fa",
   "metadata": {},
   "outputs": [
    {
     "data": {
      "text/plain": [
       "'SubedarYada'"
      ]
     },
     "execution_count": 96,
     "metadata": {},
     "output_type": "execute_result"
    }
   ],
   "source": [
    "name = \"SubedarYadav\"\n",
    "\n",
    "name[0:-1]"
   ]
  },
  {
   "cell_type": "code",
   "execution_count": null,
   "id": "945d0eb7-b95c-45d9-a6ff-5a4b86c255b2",
   "metadata": {},
   "outputs": [],
   "source": []
  }
 ],
 "metadata": {
  "kernelspec": {
   "display_name": "Python 3 (ipykernel)",
   "language": "python",
   "name": "python3"
  },
  "language_info": {
   "codemirror_mode": {
    "name": "ipython",
    "version": 3
   },
   "file_extension": ".py",
   "mimetype": "text/x-python",
   "name": "python",
   "nbconvert_exporter": "python",
   "pygments_lexer": "ipython3",
   "version": "3.10.8"
  }
 },
 "nbformat": 4,
 "nbformat_minor": 5
}
